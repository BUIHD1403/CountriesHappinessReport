{
 "cells": [
  {
   "cell_type": "code",
   "execution_count": 1,
   "metadata": {},
   "outputs": [],
   "source": [
    "import pandas as pd\n",
    "import numpy as np\n",
    "import matplotlib.pyplot as plt\n",
    "import seaborn as sns\n",
    "from sklearn import metrics, preprocessing, utils\n",
    "from sklearn.model_selection import train_test_split\n",
    "from sklearn.ensemble import RandomForestClassifier\n",
    "from sklearn.neighbors import KNeighborsClassifier\n",
    "from sklearn.preprocessing import StandardScaler\n",
    "from sklearn.pipeline import Pipeline\n",
    "from sklearn.neighbors import KNeighborsRegressor"
   ]
  },
  {
   "cell_type": "code",
   "execution_count": 2,
   "metadata": {},
   "outputs": [],
   "source": [
    "#Import happiness data\n",
    "#Read Happiness data for 2015\n",
    "happiness2015=pd.read_csv('Happiness2015.csv')\n",
    "happiness2015['Year'] = 2015\n",
    "happiness2015= happiness2015[['Country', 'Happiness Score','Year']]\n",
    "\n",
    "#Read Happiness data for 2016\n",
    "happiness2016=pd.read_csv('Happiness2016.csv')\n",
    "happiness2016['Year'] = 2016\n",
    "happiness2016= happiness2016[['Country', 'Happiness Score','Year']]\n",
    "  \n",
    "#Read Happiness data for 2017\n",
    "happiness2017=pd.read_csv('Happiness2017.csv')\n",
    "happiness2017['Year'] = 2017\n",
    "happiness2017= happiness2017[['Country', 'Happiness.Score','Year']]\n",
    "\n",
    "#Rename column  \n",
    "happiness2017['Happiness Score']=happiness2017['Happiness.Score']\n",
    "del happiness2017['Happiness.Score']\n"
   ]
  },
  {
   "cell_type": "code",
   "execution_count": 34,
   "metadata": {},
   "outputs": [],
   "source": [
    "#Import UN data: lifeExpectancy, EducationIndex, GDPperCapita\n",
    "lifeExpectancy = pd.read_csv(\"Life_expectancy_Index.csv\", skiprows=1, encoding='iso-8859-1')\n",
    "GDPperCapita = pd.read_csv(\"API_NY.GDP.PCAP.CD_DS2_en_csv_v2_422141.csv\", skiprows=4, encoding='iso-8859-1')\n",
    "EducationIndex = pd.read_csv(\"Education_Index.csv\", skiprows=1, encoding='iso-8859-1')\n"
   ]
  },
  {
   "cell_type": "code",
   "execution_count": 35,
   "metadata": {},
   "outputs": [],
   "source": [
    "#Extract 2015,2016, and 2017 data\n",
    "\n",
    "#Extract only 2015 data for training\n",
    "lifeExpectancy = lifeExpectancy[['Country', '2015']]\n",
    "lifeExpectancy['lifeExpectancy'] = lifeExpectancy['2015']\n",
    "del lifeExpectancy['2015']\n",
    "\n",
    "#Extract only 2015 data for training\n",
    "EducationIndex = EducationIndex[['Country', '2015']]\n",
    "EducationIndex['EducationIndex'] = EducationIndex['2015']\n",
    "del EducationIndex['2015']\n",
    "\n",
    "#Extract only 2015 data for training\n",
    "GDPperCapita['GDPperCapita'] = GDPperCapita['2015']\n",
    "GDPperCapita = GDPperCapita[['Country Name', '2015']]\n",
    "GDPperCapita['Country'] = GDPperCapita['Country Name']\n",
    "del GDPperCapita['Country Name']\n",
    "\n",
    "# Join all of 2015 data into a Dataframe\n",
    "data2015 = happiness2015.merge(GDPperCapita, on='Country').merge(EducationIndex, on='Country').merge(\n",
    "        lifeExpectancy, on='Country')\n",
    "\n",
    "data2015['GDPperCapita'] = data2015['2015']\n",
    "del data2015['2015']\n",
    "del data2015['Year']\n",
    "\n",
    "#These columns are \"str\" types, need to convert to numeric for correlation calculation\n",
    "data2015[\"EducationIndex\"] = pd.to_numeric(data2015[\"EducationIndex\"])\n",
    "data2015[\"lifeExpectancy\"] = pd.to_numeric(data2015[\"lifeExpectancy\"])\n",
    "data2015[\"GDPperCapita\"] = pd.to_numeric(data2015[\"GDPperCapita\"])\n"
   ]
  },
  {
   "cell_type": "code",
   "execution_count": 51,
   "metadata": {},
   "outputs": [],
   "source": [
    "#Setup train test split\n",
    "Y = np.asarray(data2015['Happiness Score'])\n",
    "X = np.asarray(data2015[['EducationIndex','lifeExpectancy','GDPperCapita']])\n",
    "\n",
    "#Preprocess happiness data\n",
    "Y = np.round(Y,1)\n",
    "\n",
    "#Train test split\n",
    "X_train, X_test, Y_train, Y_test = train_test_split(X, Y, test_size=0.2)\n"
   ]
  },
  {
   "cell_type": "code",
   "execution_count": 52,
   "metadata": {},
   "outputs": [
    {
     "name": "stdout",
     "output_type": "stream",
     "text": [
      "Prediction model score: 0.5917957513324577\n"
     ]
    }
   ],
   "source": [
    "#Predicting change in happiness model\n",
    "#Using values for regressor found in regression.ipynb\n",
    "\n",
    "model = Pipeline(steps=[('scaler', StandardScaler()),\n",
    "                         ('classifier', KNeighborsRegressor(n_neighbors=17))])\n",
    "\n",
    "model.fit(X_train, Y_train)\n",
    "model_score = model.score(X_test, Y_test)\n",
    "\n",
    "print(\"Prediction model score: \" + str(model_score))\n"
   ]
  },
  {
   "cell_type": "code",
   "execution_count": 55,
   "metadata": {},
   "outputs": [],
   "source": [
    "# Predict happiness depending on change in education, life or gdp\n",
    "\n",
    "scale_factor = [0.95,0.97,1,1.01,1.02,1.03,1.04,1.05]\n",
    "X_test_scale = X_test\n",
    "\n",
    "happiness_educ = [0]*len(scale_factor)\n",
    "happiness_life = [0]*len(scale_factor)\n",
    "happiness_gdp = [0]*len(scale_factor)\n",
    "#happiness_educ = np.zeros((len(X_test[:,0]),len(scale_factor)))\n",
    "#happiness_life = np.zeros((len(X_test[:,0]),len(scale_factor)))\n",
    "#happiness_gdp = np.zeros((len(X_test[:,0]),len(scale_factor)))\n",
    "column = 0\n",
    "\n",
    "#test= model.predict(X_test)\n",
    "#test.reshape((len(X_test[:,0]),1))\n",
    "\n",
    "for factor in scale_factor:\n",
    "    # Scale education\n",
    "    X_test_scale[:,0] *= factor\n",
    "    happiness_educ[column] = model.predict(X_test_scale).transpose()\n",
    "    X_test_scale = X_test\n",
    "    # Scale life\n",
    "    X_test_scale[:,1] *= factor\n",
    "    happiness_life[column] = model.predict(X_test_scale).transpose()\n",
    "    X_test_scale = X_test\n",
    "    # Scale gdp\n",
    "    X_test_scale[:,2] *= factor\n",
    "    happiness_gdp[column] = model.predict(X_test_scale).transpose()\n",
    "    X_test_scale = X_test\n",
    "    column = column+1\n",
    "    \n",
    "happiness_educ = np.asarray(happiness_educ)\n",
    "happiness_life = np.asarray(happiness_life)\n",
    "happiness_gdp = np.asarray(happiness_gdp)\n"
   ]
  },
  {
   "cell_type": "code",
   "execution_count": 56,
   "metadata": {},
   "outputs": [
    {
     "data": {
      "text/plain": [
       "<matplotlib.legend.Legend at 0x1d4ad487d30>"
      ]
     },
     "execution_count": 56,
     "metadata": {},
     "output_type": "execute_result"
    },
    {
     "data": {
      "image/png": "[encoded data removed]",
      "text/plain": [
       "<Figure size 432x288 with 1 Axes>"
      ]
     },
     "metadata": {
      "needs_background": "light"
     },
     "output_type": "display_data"
    }
   ],
   "source": [
    "# Visualize happiness change on subset of data\n",
    "happiness_educ_plot = happiness_educ[:,11]\n",
    "happiness_life_plot = happiness_life[:,11]\n",
    "happiness_gdp_plot = happiness_gdp[:,11]\n",
    "#rint(happiness_educ_plot)\n",
    "#rint(happiness_gdp_plot)\n",
    "\n",
    "plt.plot(scale_factor, happiness_educ_plot)\n",
    "plt.plot(scale_factor, happiness_life_plot)\n",
    "plt.plot(scale_factor, happiness_gdp_plot)\n",
    "\n",
    "plt.title('Change in Happiness')\n",
    "plt.xlabel('Scaling Factor')\n",
    "plt.ylabel('Happiness')\n",
    "plt.legend(['Education','Life Expectancy', 'GDP'])\n"
   ]
  },
  {
   "cell_type": "code",
   "execution_count": 41,
   "metadata": {},
   "outputs": [
    {
     "name": "stdout",
     "output_type": "stream",
     "text": [
      "0.06818181818181818\n"
     ]
    }
   ],
   "source": []
  },
  {
   "cell_type": "code",
   "execution_count": null,
   "metadata": {},
   "outputs": [],
   "source": []
  }
 ],
 "metadata": {
  "kernelspec": {
   "display_name": "Python 3",
   "language": "python",
   "name": "python3"
  },
  "language_info": {
   "codemirror_mode": {
    "name": "ipython",
    "version": 3
   },
   "file_extension": ".py",
   "mimetype": "text/x-python",
   "name": "python",
   "nbconvert_exporter": "python",
   "pygments_lexer": "ipython3",
   "version": "3.7.1"
  }
 },
 "nbformat": 4,
 "nbformat_minor": 2
}
